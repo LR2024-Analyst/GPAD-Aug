{
 "cells": [
  {
   "cell_type": "code",
   "execution_count": 5,
   "id": "381bf104",
   "metadata": {},
   "outputs": [
    {
     "name": "stdout",
     "output_type": "stream",
     "text": [
      "17\n"
     ]
    }
   ],
   "source": [
    "print(2+5+10)"
   ]
  },
  {
   "cell_type": "markdown",
   "id": "64463431",
   "metadata": {},
   "source": [
    "Importing Libraries"
   ]
  },
  {
   "cell_type": "code",
   "execution_count": 6,
   "id": "fea3d0f3",
   "metadata": {},
   "outputs": [],
   "source": [
    "import pandas as pd\n",
    "import sqlalchemy as sa\n",
    "\n"
   ]
  },
  {
   "cell_type": "code",
   "execution_count": 7,
   "id": "b77d045b",
   "metadata": {},
   "outputs": [],
   "source": [
    "   \n",
    "server = r'BIS-000-SP05.bis.xswhealth.nhs.uk, 14431'\n",
    "database = 'Reference'\n",
    "\n",
    "# The following constructs a connection string understood by SQL Server. It \n",
    "# adds in the server and database specified above.\n",
    "connection_string = ('DRIVER={ODBC Driver 17 for SQL Server};SERVER='+server+\n",
    "                     ';DATABASE='+database+\n",
    "                     ';ENCRYPT=no;TRUSTED_CONNECTION=yes;'\n",
    "    )\n",
    "\n",
    "# the connection_url combines the the connection string with the driver and\n",
    "# the sql dialect\n",
    "connection_url = sa.engine.URL.create(\n",
    "    \"mssql+pyodbc\", # sqlalchemy blends the dialect of SQL with the pyodbc driver \n",
    "    query=dict(odbc_connect=connection_string)\n",
    "    )\n",
    "\n",
    "# sqlalchemy builds a connection engine from the connection_url.\n",
    "# fast_executemany = True speeds up the query.\n",
    "engine = sa.create_engine(connection_url, fast_executemany= True) \n",
    "\n",
    "# enter the SQl query here in an f-string. The backslashes act both as line-break\n",
    "# characters and escape characters for the apostrophes.\n",
    "query = f'SELECT  [Practice_Code]\\\n",
    "         ,[GSUM_National_Normalised_Weighted_List_Size]\\\n",
    "        FROM [Reference].[Local].[Practice_Populations]'\n",
    "\n",
    "# import the data into a pandas dataframe using the .read_sql() method,\n",
    "# which takes the SQL query and the connection engine as arguments.\n",
    "df_ref = pd.read_sql(query, engine)"
   ]
  },
  {
   "cell_type": "code",
   "execution_count": 8,
   "id": "ca51b989",
   "metadata": {},
   "outputs": [
    {
     "data": {
      "text/html": [
       "<div>\n",
       "<style scoped>\n",
       "    .dataframe tbody tr th:only-of-type {\n",
       "        vertical-align: middle;\n",
       "    }\n",
       "\n",
       "    .dataframe tbody tr th {\n",
       "        vertical-align: top;\n",
       "    }\n",
       "\n",
       "    .dataframe thead th {\n",
       "        text-align: right;\n",
       "    }\n",
       "</style>\n",
       "<table border=\"1\" class=\"dataframe\">\n",
       "  <thead>\n",
       "    <tr style=\"text-align: right;\">\n",
       "      <th></th>\n",
       "      <th>Practice_Code</th>\n",
       "      <th>GSUM_National_Normalised_Weighted_List_Size</th>\n",
       "    </tr>\n",
       "  </thead>\n",
       "  <tbody>\n",
       "    <tr>\n",
       "      <th>0</th>\n",
       "      <td>G81001</td>\n",
       "      <td>9293.26</td>\n",
       "    </tr>\n",
       "    <tr>\n",
       "      <th>1</th>\n",
       "      <td>G81001</td>\n",
       "      <td>9098.89</td>\n",
       "    </tr>\n",
       "    <tr>\n",
       "      <th>2</th>\n",
       "      <td>G81001</td>\n",
       "      <td>9078.31</td>\n",
       "    </tr>\n",
       "    <tr>\n",
       "      <th>3</th>\n",
       "      <td>G81001</td>\n",
       "      <td>8985.85</td>\n",
       "    </tr>\n",
       "    <tr>\n",
       "      <th>4</th>\n",
       "      <td>G81001</td>\n",
       "      <td>8961.35</td>\n",
       "    </tr>\n",
       "  </tbody>\n",
       "</table>\n",
       "</div>"
      ],
      "text/plain": [
       "  Practice_Code  GSUM_National_Normalised_Weighted_List_Size\n",
       "0        G81001                                      9293.26\n",
       "1        G81001                                      9098.89\n",
       "2        G81001                                      9078.31\n",
       "3        G81001                                      8985.85\n",
       "4        G81001                                      8961.35"
      ]
     },
     "execution_count": 8,
     "metadata": {},
     "output_type": "execute_result"
    }
   ],
   "source": [
    "df_ref.head()"
   ]
  },
  {
   "cell_type": "code",
   "execution_count": 22,
   "id": "07e14b86",
   "metadata": {},
   "outputs": [
    {
     "data": {
      "text/plain": [
       "(557848, 13)"
      ]
     },
     "execution_count": 22,
     "metadata": {},
     "output_type": "execute_result"
    }
   ],
   "source": [
    "gp_df = pd.read_csv('Data/all_data.csv')\n",
    "#number of rows\n",
    "gp_df.shape\n"
   ]
  }
 ],
 "metadata": {
  "kernelspec": {
   "display_name": "lr-project1 (3.13.2)",
   "language": "python",
   "name": "python3"
  },
  "language_info": {
   "codemirror_mode": {
    "name": "ipython",
    "version": 3
   },
   "file_extension": ".py",
   "mimetype": "text/x-python",
   "name": "python",
   "nbconvert_exporter": "python",
   "pygments_lexer": "ipython3",
   "version": "3.13.2"
  }
 },
 "nbformat": 4,
 "nbformat_minor": 5
}
